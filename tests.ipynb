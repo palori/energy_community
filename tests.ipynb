{
 "cells": [
  {
   "cell_type": "code",
   "execution_count": 1,
   "metadata": {},
   "outputs": [
    {
     "name": "stdout",
     "output_type": "stream",
     "text": [
      "1\n",
      "{'2.1': 2.1, '2.2': 2.2}\n"
     ]
    },
    {
     "ename": "KeyError",
     "evalue": "'3'",
     "output_type": "error",
     "traceback": [
      "\u001b[0;31m---------------------------------------------------------------------------\u001b[0m",
      "\u001b[0;31mKeyError\u001b[0m                                  Traceback (most recent call last)",
      "\u001b[0;32m<ipython-input-1-f0f20ea67c65>\u001b[0m in \u001b[0;36m<module>\u001b[0;34m()\u001b[0m\n\u001b[1;32m      2\u001b[0m \u001b[0mprint\u001b[0m\u001b[0;34m(\u001b[0m\u001b[0md\u001b[0m\u001b[0;34m[\u001b[0m\u001b[0;34m'1'\u001b[0m\u001b[0;34m]\u001b[0m\u001b[0;34m)\u001b[0m\u001b[0;34m\u001b[0m\u001b[0m\n\u001b[1;32m      3\u001b[0m \u001b[0mprint\u001b[0m\u001b[0;34m(\u001b[0m\u001b[0md\u001b[0m\u001b[0;34m[\u001b[0m\u001b[0;34m'2'\u001b[0m\u001b[0;34m]\u001b[0m\u001b[0;34m)\u001b[0m\u001b[0;34m\u001b[0m\u001b[0m\n\u001b[0;32m----> 4\u001b[0;31m \u001b[0mprint\u001b[0m\u001b[0;34m(\u001b[0m\u001b[0md\u001b[0m\u001b[0;34m[\u001b[0m\u001b[0;34m'3'\u001b[0m\u001b[0;34m]\u001b[0m\u001b[0;34m)\u001b[0m\u001b[0;34m\u001b[0m\u001b[0m\n\u001b[0m",
      "\u001b[0;31mKeyError\u001b[0m: '3'"
     ]
    }
   ],
   "source": [
    "d = {'1': 1, '2':{'2.1':2.1, '2.2':2.2}}\n",
    "print(d['1'])\n",
    "print(d['2'])\n",
    "print(d['3'])"
   ]
  },
  {
   "cell_type": "code",
   "execution_count": 8,
   "metadata": {},
   "outputs": [
    {
     "name": "stdout",
     "output_type": "stream",
     "text": [
      "nodes type = <class 'dict'>\n",
      "j1 type = <class 'str'>\n",
      "d1 type = <class 'dict'>\n",
      "\n",
      "---\n",
      "\n",
      "{\"1\": {\"id\": 1, \"ip\": \"192.168.0.101\", \"rpc_port\": 9001, \"rpc_status\": 1, \"produce\": 1, \"control\": 1, \"publish_ports\": {\"keep_alive\": 5001, \"measurement\": 6001}}, \"10\": {\"id\": 10, \"ip\": \"192.168.0.110\", \"rpc_port\": 9010, \"rpc_status\": 10, \"produce\": 10, \"control\": 10, \"publish_ports\": {\"keep_alive\": 5010, \"measurement\": 6010}}}\n",
      "__\n",
      "{'1': {'id': 1, 'ip': '192.168.0.101', 'rpc_port': 9001, 'rpc_status': 1, 'produce': 1, 'control': 1, 'publish_ports': {'keep_alive': 5001, 'measurement': 6001}}, '10': {'id': 10, 'ip': '192.168.0.110', 'rpc_port': 9010, 'rpc_status': 10, 'produce': 10, 'control': 10, 'publish_ports': {'keep_alive': 5010, 'measurement': 6010}}}\n"
     ]
    }
   ],
   "source": [
    "import json\n",
    "\n",
    "nodes = {'1': {'id':1, #both should be the same and unique (also used for leader election)\n",
    "               'ip':'192.168.0.101',\n",
    "               'rpc_port': 9001,\n",
    "               'rpc_status':1, #1=master, 0=slave\n",
    "               'produce':1, #1=yes, 0=no\n",
    "               'control':1, #1=yes, 0=no\n",
    "               'publish_ports':{'keep_alive':5001,\n",
    "                                'measurement':6001\n",
    "                               }\n",
    "               #'subscribed_ports':{} #it will fill in when adding to the system\n",
    "              },\n",
    "         \n",
    "         '10': {'id':10, #both should be the same and unique (also used for leader election)\n",
    "               'ip':'192.168.0.110',\n",
    "               'rpc_port': 9010,\n",
    "               'rpc_status':10, #1=master, 0=slave\n",
    "               'produce':10, #1=yes, 0=no\n",
    "               'control':10, #1=yes, 0=no\n",
    "               'publish_ports':{'keep_alive':5010,\n",
    "                                'measurement':6010\n",
    "                               }\n",
    "               #'subscribed_ports':{} #it will fill in when adding to the system\n",
    "              }\n",
    "        }\n",
    "\n",
    "\n",
    "print('nodes type = {}'.format(type(nodes)))\n",
    "j1 = json.dumps(nodes, ensure_ascii=False)\n",
    "print('j1 type = {}'.format(type(j1)))\n",
    "d1 = json.loads(j1)\n",
    "print('d1 type = {}'.format(type(d1)))\n",
    "\n",
    "print('\\n---\\n')\n",
    "print(j1)\n",
    "print('__')\n",
    "if nodes == d1:\n",
    "    print(d1)\n",
    "else:\n",
    "    print('caca')"
   ]
  },
  {
   "cell_type": "code",
   "execution_count": 38,
   "metadata": {},
   "outputs": [
    {
     "name": "stdout",
     "output_type": "stream",
     "text": [
      "{'node_ip': 1, 'port': {'1': 1, '2': {'4': 4}}, 'socket': 3}\n",
      "{'node_ip': 1, 'port': {'1': 1, '2': {'4': 4}}, 'socket': 3, 'full': {'blanc': {'A4': True, 'A3': False}}}\n",
      "{'node_ip': 1, 'port': {'1': 1, '2': {'4': 4}}, 'socket': 3, 'full': {'negre': {'A4': True, 'A3': False}}}\n"
     ]
    }
   ],
   "source": [
    "data = {'node_ip': 1,\n",
    "                'port': {'1': 1, '2': 2},\n",
    "                'socket': 3}\n",
    "data['port']['2'] = {'4':4}\n",
    "print(data)\n",
    "data['full'] = {}\n",
    "data['full']['blanc']={'A4': True, 'A3': False}\n",
    "print(data)\n",
    "data['full']={'negre':{'A4': True, 'A3': False}}\n",
    "print(data)"
   ]
  },
  {
   "cell_type": "code",
   "execution_count": 21,
   "metadata": {},
   "outputs": [
    {
     "name": "stdout",
     "output_type": "stream",
     "text": [
      "{'node_ip': 1, 'port': {'1': 1, '2': {'4': 4}}, 'socket': 3}\n",
      "{'port': {'1': 1, '2': {'4': 4}}, 'socket': 3}\n",
      "{'port': {'1': 1, '2': {}}, 'socket': 3}\n"
     ]
    }
   ],
   "source": [
    "print(data)\n",
    "del data['node_ip']\n",
    "print(data)\n",
    "del data['port']['2']['4']\n",
    "print(data)"
   ]
  },
  {
   "cell_type": "code",
   "execution_count": 34,
   "metadata": {},
   "outputs": [
    {
     "name": "stdout",
     "output_type": "stream",
     "text": [
      "1529159753.9076512\n",
      "1529159763.9179382\n",
      "10\n"
     ]
    }
   ],
   "source": [
    "import time\n",
    "t0 = time.time()\n",
    "time.sleep(1)\n",
    "t1 = time.time()\n",
    "print(t0)\n",
    "print(t1)\n",
    "print(round(t1-t0))"
   ]
  },
  {
   "cell_type": "code",
   "execution_count": 43,
   "metadata": {},
   "outputs": [
    {
     "name": "stdout",
     "output_type": "stream",
     "text": [
      "{'hola': 1}\n"
     ]
    }
   ],
   "source": [
    "class ddd():\n",
    "    def __init__(self):\n",
    "        self.d={}\n",
    "        self.d['hola'] = 1\n",
    "        print(self.d)\n",
    "        \n",
    "d = ddd()"
   ]
  },
  {
   "cell_type": "code",
   "execution_count": 46,
   "metadata": {},
   "outputs": [
    {
     "name": "stdout",
     "output_type": "stream",
     "text": [
      "{'keep_alive': 5556, 'hola': 2}\n"
     ]
    },
    {
     "ename": "ValueError",
     "evalue": "too many values to unpack (expected 2)",
     "output_type": "error",
     "traceback": [
      "\u001b[0;31m---------------------------------------------------------------------------\u001b[0m",
      "\u001b[0;31mValueError\u001b[0m                                Traceback (most recent call last)",
      "\u001b[0;32m<ipython-input-46-cb5fdb3694c9>\u001b[0m in \u001b[0;36m<module>\u001b[0;34m()\u001b[0m\n\u001b[1;32m      1\u001b[0m \u001b[0mnew_topics\u001b[0m \u001b[0;34m=\u001b[0m \u001b[0;34m{\u001b[0m\u001b[0;34m'keep_alive'\u001b[0m\u001b[0;34m:\u001b[0m\u001b[0;36m5556\u001b[0m\u001b[0;34m,\u001b[0m \u001b[0;34m'hola'\u001b[0m\u001b[0;34m:\u001b[0m\u001b[0;36m2\u001b[0m\u001b[0;34m}\u001b[0m\u001b[0;34m\u001b[0m\u001b[0m\n\u001b[1;32m      2\u001b[0m \u001b[0mprint\u001b[0m\u001b[0;34m(\u001b[0m\u001b[0mnew_topics\u001b[0m\u001b[0;34m)\u001b[0m\u001b[0;34m\u001b[0m\u001b[0m\n\u001b[0;32m----> 3\u001b[0;31m \u001b[0;32mfor\u001b[0m \u001b[0mtopic\u001b[0m\u001b[0;34m,\u001b[0m \u001b[0mport\u001b[0m \u001b[0;32min\u001b[0m \u001b[0mnew_topics\u001b[0m\u001b[0;34m:\u001b[0m\u001b[0;34m\u001b[0m\u001b[0m\n\u001b[0m\u001b[1;32m      4\u001b[0m     \u001b[0mprint\u001b[0m\u001b[0;34m(\u001b[0m\u001b[0;34mf\"topic {topic} in port {port}.\"\u001b[0m\u001b[0;34m)\u001b[0m\u001b[0;34m\u001b[0m\u001b[0m\n",
      "\u001b[0;31mValueError\u001b[0m: too many values to unpack (expected 2)"
     ]
    }
   ],
   "source": [
    "new_topics = {'keep_alive':5556, 'hola':2}\n",
    "print(new_topics)\n",
    "for topic, port in new_topics:\n",
    "    print(f\"topic {topic} in port {port}.\")"
   ]
  },
  {
   "cell_type": "code",
   "execution_count": 55,
   "metadata": {},
   "outputs": [
    {
     "name": "stdout",
     "output_type": "stream",
     "text": [
      "Time 1529178700.1625366 of type <class 'float'>\n",
      "Time 1529178700.1625366 of type <class 'str'>\n",
      "Time 1529178700.1625366 of type <class 'float'>\n",
      "Time 1529178705.1684325 of type <class 'float'>\n",
      "5.0058958530426025\n"
     ]
    }
   ],
   "source": [
    "import time\n",
    "t = time.time()\n",
    "print(f\"Time {t} of type {type(t)}\")\n",
    "t_s = str(t)\n",
    "print(f\"Time {t_s} of type {type(t_s)}\")\n",
    "t_s_t = float(t_s)\n",
    "print(f\"Time {t_s_t} of type {type(t_s_t)}\")\n",
    "time.sleep(5)\n",
    "t1 = time.time()\n",
    "print(f\"Time {t1} of type {type(t1)}\")\n",
    "print(t1-t_s_t)"
   ]
  },
  {
   "cell_type": "code",
   "execution_count": 60,
   "metadata": {},
   "outputs": [
    {
     "name": "stdout",
     "output_type": "stream",
     "text": [
      "Collecting updates from time server at tcp://localhost:{port}\n",
      "Collecting updates from time server at tcp://localhost:{port}\n"
     ]
    }
   ],
   "source": [
    "from comm.pub_subs.sub_client import Subscriber\n",
    "test = Subscriber()\n",
    "test.subscribe()"
   ]
  },
  {
   "cell_type": "code",
   "execution_count": 76,
   "metadata": {},
   "outputs": [
    {
     "name": "stdout",
     "output_type": "stream",
     "text": [
      "{'2': {'4': 3}}\n"
     ]
    }
   ],
   "source": [
    "x = {'1':1, '2':{'4':3,'5':5}}\n",
    "y = {'1':1, '2':{'3':3}}\n",
    "different_items = {k: x[k] for k in x if k in y and x[k] != y[k]}\n",
    "print(shared_items)"
   ]
  },
  {
   "cell_type": "code",
   "execution_count": 78,
   "metadata": {},
   "outputs": [
    {
     "name": "stdout",
     "output_type": "stream",
     "text": [
      "{'1': 1, '2': {'4': 3, '5': 5}}\n",
      "{'1': 1, '2': {'5': 5}}\n"
     ]
    }
   ],
   "source": [
    "x = {'1':1, '2':{'4':3,'5':5}}\n",
    "print(x)\n",
    "if not 0:\n",
    "    del x['2']['4']\n",
    "print(x)"
   ]
  },
  {
   "cell_type": "code",
   "execution_count": 80,
   "metadata": {},
   "outputs": [
    {
     "name": "stdout",
     "output_type": "stream",
     "text": [
      "hola com estas?\n"
     ]
    }
   ],
   "source": [
    "a = 'hola'\n",
    "b = a + ' com estas?'\n",
    "print(b)"
   ]
  },
  {
   "cell_type": "code",
   "execution_count": 4,
   "metadata": {},
   "outputs": [
    {
     "name": "stdout",
     "output_type": "stream",
     "text": [
      "['1', '2', '3']\n",
      "[1, 2, 3]\n",
      "Master is 3\n"
     ]
    }
   ],
   "source": [
    "sys_nodes=['1','2','3']\n",
    "print(sys_nodes)\n",
    "sys_nodes_int=[int(n) for n in sys_nodes]\n",
    "print(sys_nodes_int)\n",
    "m = max(sys_nodes_int)\n",
    "print(f\"Master is {m}\")"
   ]
  },
  {
   "cell_type": "code",
   "execution_count": 13,
   "metadata": {},
   "outputs": [
    {
     "name": "stdout",
     "output_type": "stream",
     "text": [
      "9011\n"
     ]
    }
   ],
   "source": [
    "rpc_ports=max([v['rpc_port'] for k,v in nodes.items()])+1\n",
    "print(rpc_ports)"
   ]
  },
  {
   "cell_type": "code",
   "execution_count": null,
   "metadata": {},
   "outputs": [],
   "source": []
  }
 ],
 "metadata": {
  "kernelspec": {
   "display_name": "Python 3",
   "language": "python",
   "name": "python3"
  },
  "language_info": {
   "codemirror_mode": {
    "name": "ipython",
    "version": 3
   },
   "file_extension": ".py",
   "mimetype": "text/x-python",
   "name": "python",
   "nbconvert_exporter": "python",
   "pygments_lexer": "ipython3",
   "version": "3.6.4"
  }
 },
 "nbformat": 4,
 "nbformat_minor": 2
}
